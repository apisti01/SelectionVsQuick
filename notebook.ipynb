{
 "cells": [
  {
   "metadata": {},
   "cell_type": "markdown",
   "source": [
    "# Confronto tra algoritmi di ordinamento \n",
    "## Analisi tra Selection Sort e QuickSort\n",
    "##### Andrea Pistelli, matricola: 7049769"
   ],
   "id": "8a77807f92f26ee"
  },
  {
   "metadata": {},
   "cell_type": "markdown",
   "source": [
    "### Introduzione\n",
    "Gli algoritmi di ordinamento vengono utilizzati per organizzare una sequenza di elementi in un ordine specifico, solitamente crescente o decrescente. Esistono vari tipi di algoritmi di ordinamento che si differenziano per complessità computazionale, stabilità e tipo di dati che possono gestire. In questo notebook, verranno confrontati due algoritmi di ordinamento: Selection Sort e QuickSort."
   ],
   "id": "18d212fb10952acc"
  },
  {
   "metadata": {
    "ExecuteTime": {
     "end_time": "2024-09-21T16:10:15.725482Z",
     "start_time": "2024-09-21T16:10:15.722234Z"
    }
   },
   "cell_type": "code",
   "source": "import random",
   "id": "88ef880944e3ed18",
   "outputs": [],
   "execution_count": 5
  },
  {
   "metadata": {},
   "cell_type": "markdown",
   "source": [
    "## Selection Sort\n",
    "\n",
    "**Descrizione:**\n",
    "Selection Sort è un algoritmo di ordinamento semplice. Funziona selezionando ripetutamente l'elemento minimo (o massimo) dalla parte non ordinata della lista e scambiandolo con il primo elemento non ordinato. Questo processo viene ripetuto fino a quando l'intera lista è ordinata.\n",
    "\n",
    "**Passi da seguire:**\n",
    "1. Trova l'elemento minimo nella lista non ordinata.\n",
    "2. Scambia l'elemento minimo con il primo elemento della lista non ordinata.\n",
    "3. Sposta il confine tra la lista ordinata e quella non ordinata di una posizione a destra.\n",
    "4. Ripeti i passi 1-3 fino a quando l'intera lista è ordinata.\n",
    "\n",
    "**Analisi delle prestazioni:**\n",
    "- **Complessità temporale:** $\\(\\Theta (n^2)\\)$ sia nel caso peggiore, che medio che migliore\n",
    "- **Complessità spaziale:** $\\(\\Theta (1)\\)$ (in-place)\n",
    "\n",
    "Selection Sort è inefficiente per grandi dataset a causa della sua complessità temporale quadratica, ma può essere utile per dataset piccoli o quando la memoria è limitata."
   ],
   "id": "d0635ac3a4fd294a"
  },
  {
   "metadata": {
    "ExecuteTime": {
     "end_time": "2024-09-21T16:10:15.748884Z",
     "start_time": "2024-09-21T16:10:15.744664Z"
    }
   },
   "cell_type": "code",
   "source": [
    "def selection_sort(arr):\n",
    "    n = len(arr)\n",
    "    for i in range(n):\n",
    "        min_idx = i\n",
    "        for j in range(i+1, n):\n",
    "            if arr[j] < arr[min_idx]:\n",
    "                min_idx = j\n",
    "        arr[i], arr[min_idx] = arr[min_idx], arr[i]"
   ],
   "id": "bbf92adfc12e3d36",
   "outputs": [],
   "execution_count": 6
  },
  {
   "metadata": {
    "ExecuteTime": {
     "end_time": "2024-09-21T16:10:15.772612Z",
     "start_time": "2024-09-21T16:10:15.768092Z"
    }
   },
   "cell_type": "code",
   "source": [
    "# Esempio di utilizzo di Selection Sort \n",
    "arr = [64, 25, 12, 22, 11, 1, 90, 100, 3, 5]\n",
    "selection_sort(arr)\n",
    "print(\"Lista ordinata:\", arr)"
   ],
   "id": "5097127a864b2f89",
   "outputs": [
    {
     "name": "stdout",
     "output_type": "stream",
     "text": [
      "Lista ordinata: [1, 3, 5, 11, 12, 22, 25, 64, 90, 100]\n"
     ]
    }
   ],
   "execution_count": 7
  },
  {
   "metadata": {},
   "cell_type": "markdown",
   "source": [
    "## QuickSort\n",
    "\n",
    "**Descrizione:**\n",
    "QuickSort è un algoritmo di ordinamento efficiente e ampiamente utilizzato. Utilizza un approccio divide-et-impera, scegliendo un elemento pivot e partizionando l'array in modo che gli elementi minori del pivot siano a sinistra e quelli maggiori a destra. Successivamente, ordina ricorsivamente le due parti.\n",
    "\n",
    "**Passi da seguire:**\n",
    "1. Scegli un elemento pivot dall'array.\n",
    "2. Partiziona l'array in modo che tutti gli elementi minori del pivot siano a sinistra e quelli maggiori a destra.\n",
    "3. Ordina ricorsivamente le due partizioni.\n",
    "\n",
    "**Analisi delle prestazioni:**\n",
    "- **Complessità temporale:**\n",
    "  - Caso peggiore: $\\(\\Theta (n^2)\\)$\n",
    "  - Caso medio: $\\(\\Theta (n \\log n)\\)$\n",
    "  - Caso migliore: $\\(\\Theta (n \\log n)\\)$\n",
    "- **Complessità spaziale:** $\\(\\Theta (\\log n)\\)$ (a causa della ricorsione)\n",
    "\n",
    "QuickSort è generalmente più efficiente di altri algoritmi di ordinamento per grandi dataset, ma la sua efficienza dipende dalla scelta del pivot.\n",
    "\n",
    "Se **randomizziamo** la scelta del pivot possiamo avere complessità temporale stabile $\\(\\Theta (n \\log n)\\)$ anche nel caso peggiore."
   ],
   "id": "274107793a3e2622"
  },
  {
   "metadata": {
    "ExecuteTime": {
     "end_time": "2024-09-21T16:10:15.783889Z",
     "start_time": "2024-09-21T16:10:15.777662Z"
    }
   },
   "cell_type": "code",
   "source": [
    "def randomized_partition(arr, low, high):\n",
    "    pivot_index = random.randint(low, high)\n",
    "    arr[pivot_index], arr[high] = arr[high], arr[pivot_index]\n",
    "    return partition(arr, low, high)\n",
    "\n",
    "def partition(arr, low, high):\n",
    "    pivot = arr[high]\n",
    "    i = low - 1\n",
    "    for j in range(low, high):\n",
    "        if arr[j] <= pivot:\n",
    "            i += 1\n",
    "            arr[i], arr[j] = arr[j], arr[i]\n",
    "    arr[i + 1], arr[high] = arr[high], arr[i + 1]\n",
    "    return i + 1\n",
    "\n",
    "def randomized_quicksort(arr, low, high):\n",
    "    if low < high:\n",
    "        pi = randomized_partition(arr, low, high)\n",
    "        randomized_quicksort(arr, low, pi - 1)\n",
    "        randomized_quicksort(arr, pi + 1, high)"
   ],
   "id": "9d5c22e4d481b976",
   "outputs": [],
   "execution_count": 8
  },
  {
   "metadata": {
    "ExecuteTime": {
     "end_time": "2024-09-21T16:10:15.789640Z",
     "start_time": "2024-09-21T16:10:15.785710Z"
    }
   },
   "cell_type": "code",
   "source": [
    "# Esempio di utilizzo di QuickSort  \n",
    "arr = [64, 25, 12, 22, 11, 1, 90, 100, 3, 5]\n",
    "randomized_quicksort(arr, 0, len(arr) - 1)\n",
    "print(\"Lista ordinata:\", arr)"
   ],
   "id": "a6d31ec59eb2b3bf",
   "outputs": [
    {
     "name": "stdout",
     "output_type": "stream",
     "text": [
      "Lista ordinata: [1, 3, 5, 11, 12, 22, 25, 64, 90, 100]\n"
     ]
    }
   ],
   "execution_count": 9
  }
 ],
 "metadata": {
  "kernelspec": {
   "display_name": "Python 3",
   "language": "python",
   "name": "python3"
  },
  "language_info": {
   "codemirror_mode": {
    "name": "ipython",
    "version": 2
   },
   "file_extension": ".py",
   "mimetype": "text/x-python",
   "name": "python",
   "nbconvert_exporter": "python",
   "pygments_lexer": "ipython2",
   "version": "2.7.6"
  }
 },
 "nbformat": 4,
 "nbformat_minor": 5
}
